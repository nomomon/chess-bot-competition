{
    "cells": [
        {
            "cell_type": "code",
            "execution_count": 1,
            "metadata": {},
            "outputs": [],
            "source": [
                "import os\n",
                "import time\n",
                "import random\n",
                "from itertools import count, combinations\n",
                "\n",
                "import chess\n",
                "import pandas as pd\n",
                "from tqdm import tqdm \n",
                "\n",
                "from IPython.display import clear_output, HTML"
            ]
        },
        {
            "cell_type": "code",
            "execution_count": 2,
            "metadata": {},
            "outputs": [
                {
                    "name": "stdout",
                    "output_type": "stream",
                    "text": [
                        "wrapper_M_Opat.py -> wrapper_M_Opat.py\n",
                        "bot_random.py -> bot_random.py\n"
                    ]
                }
            ],
            "source": [
                "# rename all files in the \"bots\" directory to remove spaces and special characters\n",
                "# remove all . before the extension\n",
                "# this is necessary for the import to work\n",
                "\n",
                "bots_dir = \"bots\"\n",
                "for filename in os.listdir(bots_dir):\n",
                "    if filename.endswith(\".py\"):\n",
                "        new_filename = filename.replace(\" \", \"_\") \\\n",
                "                                .replace(\".\", \"_\") \\\n",
                "                                .replace(\"-\", \"_\") \\\n",
                "                                .replace(\"(\", \"_\") \\\n",
                "                                .replace(\")\", \"\") \\\n",
                "                                .replace(\"__\", \"_\") \\\n",
                "                                .replace(\"__\", \"_\") \\\n",
                "        \n",
                "        new_filename = new_filename[:-3] + \".py\"\n",
                "        os.rename(os.path.join(bots_dir, filename), os.path.join(bots_dir, new_filename))\n",
                "        print(f\"{filename} -> {new_filename}\")"
            ]
        },
        {
            "cell_type": "code",
            "execution_count": 3,
            "metadata": {},
            "outputs": [
                {
                    "data": {
                        "text/plain": [
                            "['bot_random.py', 'wrapper_M_Opat.py']"
                        ]
                    },
                    "execution_count": 3,
                    "metadata": {},
                    "output_type": "execute_result"
                }
            ],
            "source": [
                "bot_dir = 'bots'\n",
                "bot_files = [bot_file for bot_file in os.listdir(bot_dir) if bot_file.endswith('.py')]\n",
                "bot_files = sorted(bot_files)\n",
                "\n",
                "bot_files"
            ]
        },
        {
            "cell_type": "code",
            "execution_count": 10,
            "metadata": {},
            "outputs": [
                {
                    "name": "stdout",
                    "output_type": "stream",
                    "text": [
                        "Error importing bot wrapper_M_Opat: dlopen(/var/folders/w3/2rfcg8md39x8h72m0ssfy9n80000gn/T/tmp36hheu6o.so, 0x0006): tried: '/var/folders/w3/2rfcg8md39x8h72m0ssfy9n80000gn/T/tmp36hheu6o.so' (not a mach-o file), '/System/Volumes/Preboot/Cryptexes/OS/var/folders/w3/2rfcg8md39x8h72m0ssfy9n80000gn/T/tmp36hheu6o.so' (no such file), '/var/folders/w3/2rfcg8md39x8h72m0ssfy9n80000gn/T/tmp36hheu6o.so' (not a mach-o file), '/private/var/folders/w3/2rfcg8md39x8h72m0ssfy9n80000gn/T/tmp36hheu6o.so' (not a mach-o file), '/System/Volumes/Preboot/Cryptexes/OS/private/var/folders/w3/2rfcg8md39x8h72m0ssfy9n80000gn/T/tmp36hheu6o.so' (no such file), '/private/var/folders/w3/2rfcg8md39x8h72m0ssfy9n80000gn/T/tmp36hheu6o.so' (not a mach-o file)\n",
                        "[<class 'bots.bot_random.ChessBot'>]\n"
                    ]
                }
            ],
            "source": [
                "# import bots from the files\n",
                "from importlib import import_module, reload\n",
                "\n",
                "bot_classes = []\n",
                "\n",
                "for bot_file in bot_files:\n",
                "    bot_name = bot_file[:-3]\n",
                "    try:\n",
                "        bot_module = reload(import_module(f\"{bot_dir}.{bot_name}\"))\n",
                "    except Exception as e:\n",
                "        print(f\"Error importing bot {bot_name}: {e}\")\n",
                "        continue\n",
                "    bot_class = getattr(bot_module, \"ChessBot\")\n",
                "    bot_class.name = bot_name\n",
                "    \n",
                "    bot_classes.append(bot_class)\n",
                "\n",
                "print(bot_classes)"
            ]
        },
        {
            "cell_type": "code",
            "execution_count": 5,
            "metadata": {},
            "outputs": [],
            "source": [
                "class Judge():\n",
                "    def __init__(self, player_1, player_2, time_limit=300): # 5 minutes per player\n",
                "        self.player_1 = player_1            # white\n",
                "        self.player_2 = player_2            # black\n",
                "        self.time_limit = time_limit\n",
                "\n",
                "    def run_game(self, initial_board_fen: str = None, slow_down: bool = False, verbose: bool = False):\n",
                "        if initial_board_fen is None:\n",
                "            initial_board_fen = chess.Board().fen()\n",
                "        board = chess.Board(initial_board_fen)\n",
                "\n",
                "        player_times = [0, 0]\n",
                "        history = []\n",
                "        notes = []\n",
                "        winner = None\n",
                "\n",
                "        for i in count(0, 1):\n",
                "            history.append(board.fen())\n",
                "\n",
                "            if board.is_checkmate():\n",
                "                winner = \"black\" if i%2 == 0 else \"white\"\n",
                "                notes.append(f\"Checkmate! Winner is {winner}\")\n",
                "                break\n",
                "            elif board.is_stalemate():\n",
                "                notes.append(\"Stalemate! It's a draw.\")\n",
                "                break\n",
                "            elif board.is_insufficient_material():\n",
                "                notes.append(\"Insufficient material! It's a draw.\")\n",
                "                break\n",
                "            elif board.is_seventyfive_moves():\n",
                "                notes.append(\"Seventy-five moves without a capture or pawn move! It's a draw.\")\n",
                "                break\n",
                "            elif board.is_fivefold_repetition():\n",
                "                notes.append(\"Fivefold repetition! It's a draw.\")\n",
                "                break\n",
                "            elif board.is_game_over():\n",
                "                notes.append(\"Game over! It's a draw.\")\n",
                "                break\n",
                "\n",
                "            board_fen = board.fen()\n",
                "\n",
                "            start = time.time()\n",
                "            try:\n",
                "                if i % 2 == 0:\n",
                "                    move = self.player_1(board_fen)\n",
                "                else:\n",
                "                    move = self.player_2(board_fen)\n",
                "            except Exception as e:\n",
                "                winner = \"black\" if i%2 == 0 else \"white\"\n",
                "                notes.append(f\"Exception: {e}. Winner is {winner}\")\n",
                "                break\n",
                "            end = time.time()\n",
                "\n",
                "            player_times[i%2] += end - start\n",
                "\n",
                "            if player_times[i%2] > self.time_limit:\n",
                "                winner = \"black\" if i%2 == 0 else \"white\"\n",
                "                notes.append(f\"\\nTime limit exceeded! Winner is {winner}\")\n",
                "                break\n",
                "\n",
                "            if not board.is_legal(move):\n",
                "                winner = \"black\" if i%2 == 0 else \"white\"\n",
                "                hallucinator = \"white\" if i%2 == 0 else \"black\"\n",
                "                notes.append(f\"Illegal board move. The {hallucinator} is hallucinating.\")\n",
                "                break\n",
                "\n",
                "            board.push(move)\n",
                "\n",
                "            if verbose: \n",
                "                clear_output(wait=True)\n",
                "                display(board)\n",
                "                display(HTML(f\"{self.player_1.name} (white) vs {self.player_2.name} (black)\"))\n",
                "\n",
                "            # slow down the bots so that we can see them\n",
                "            if slow_down: \n",
                "                time.sleep(.001)\n",
                "\n",
                "        results = {}\n",
                "        results['winner'] = winner\n",
                "        results['times'] = player_times\n",
                "        results[\"notes\"] = notes\n",
                "        results[\"history\"] = history\n",
                "\n",
                "        return results"
            ]
        },
        {
            "cell_type": "code",
            "execution_count": 6,
            "metadata": {},
            "outputs": [],
            "source": [
                "with open('opennings.txt', 'r') as file:\n",
                "    opennings = file.read().split('\\n')"
            ]
        },
        {
            "cell_type": "code",
            "execution_count": 7,
            "metadata": {},
            "outputs": [
                {
                    "name": "stderr",
                    "output_type": "stream",
                    "text": [
                        "0it [00:00, ?it/s]\n"
                    ]
                }
            ],
            "source": [
                "# play all bots against each other\n",
                "\n",
                "N_GAMES = 1 # per pair color (so N_GAMES * 2 games per pair of bots)\n",
                "\n",
                "today = time.strftime(\"%Y-%m-%d\")\n",
                "today_results = f\"results/{today}_results.csv\"\n",
                "\n",
                "columns=[\n",
                "    'white_bot', 'black_bot', 'winner', 'white_time', 'black_time', 'notes', 'history'\n",
                "]\n",
                "\n",
                "combin = combinations(bot_classes, 2)\n",
                "combin = list(combin)\n",
                "random.shuffle(combin)\n",
                "combin = tqdm(combin)\n",
                "\n",
                "for bot1, bot2 in combin:\n",
                "    for white, black in [(bot1, bot2), (bot2, bot1)]:\n",
                "        if os.path.exists(today_results) and pd.read_csv(today_results).query(\n",
                "            f\"(white_bot == '{white.name}') & (black_bot == '{black.name}')\"\n",
                "        ).shape[0] >= N_GAMES:\n",
                "            continue\n",
                "\n",
                "        for i in range(N_GAMES):\n",
                "            judge = Judge(white(), black())\n",
                "            random_opening = random.choice(opennings)\n",
                "            results = judge.run_game(random_opening, verbose=True)\n",
                "\n",
                "            game_results = pd.DataFrame([[\n",
                "                white.name, black.name, results['winner'], \n",
                "                results['times'][0], results['times'][1], \n",
                "                \"; \".join(results['notes']),\n",
                "                \"\\t\".join(results['history'])\n",
                "            ]], columns=columns)\n",
                "\n",
                "            game_results.to_csv(\n",
                "                today_results, \n",
                "                mode='a', \n",
                "                index=False,\n",
                "                header=not os.path.exists(today_results), \n",
                "            )\n",
                "\n",
                "clear_output(wait=True)"
            ]
        },
        {
            "cell_type": "code",
            "execution_count": 8,
            "metadata": {},
            "outputs": [
                {
                    "ename": "FileNotFoundError",
                    "evalue": "[Errno 2] No such file or directory: 'results/2024-02-26_results.csv'",
                    "output_type": "error",
                    "traceback": [
                        "\u001b[0;31m---------------------------------------------------------------------------\u001b[0m",
                        "\u001b[0;31mFileNotFoundError\u001b[0m                         Traceback (most recent call last)",
                        "Cell \u001b[0;32mIn[8], line 1\u001b[0m\n\u001b[0;32m----> 1\u001b[0m game_results \u001b[38;5;241m=\u001b[39m \u001b[43mpd\u001b[49m\u001b[38;5;241;43m.\u001b[39;49m\u001b[43mread_csv\u001b[49m\u001b[43m(\u001b[49m\u001b[43mtoday_results\u001b[49m\u001b[43m)\u001b[49m\n\u001b[1;32m      3\u001b[0m \u001b[38;5;66;03m# make sure the bots are in bot list\u001b[39;00m\n\u001b[1;32m      4\u001b[0m game_results \u001b[38;5;241m=\u001b[39m game_results[\n\u001b[1;32m      5\u001b[0m     game_results[\u001b[38;5;124m'\u001b[39m\u001b[38;5;124mwhite_bot\u001b[39m\u001b[38;5;124m'\u001b[39m]\u001b[38;5;241m.\u001b[39misin([bot\u001b[38;5;241m.\u001b[39mname \u001b[38;5;28;01mfor\u001b[39;00m bot \u001b[38;5;129;01min\u001b[39;00m bot_classes]) \u001b[38;5;241m&\u001b[39m\n\u001b[1;32m      6\u001b[0m     game_results[\u001b[38;5;124m'\u001b[39m\u001b[38;5;124mblack_bot\u001b[39m\u001b[38;5;124m'\u001b[39m]\u001b[38;5;241m.\u001b[39misin([bot\u001b[38;5;241m.\u001b[39mname \u001b[38;5;28;01mfor\u001b[39;00m bot \u001b[38;5;129;01min\u001b[39;00m bot_classes])\n\u001b[1;32m      7\u001b[0m ]\n",
                        "File \u001b[0;32m~/Desktop/Projects/chess-bot-competition/.venv/lib/python3.11/site-packages/pandas/io/parsers/readers.py:1024\u001b[0m, in \u001b[0;36mread_csv\u001b[0;34m(filepath_or_buffer, sep, delimiter, header, names, index_col, usecols, dtype, engine, converters, true_values, false_values, skipinitialspace, skiprows, skipfooter, nrows, na_values, keep_default_na, na_filter, verbose, skip_blank_lines, parse_dates, infer_datetime_format, keep_date_col, date_parser, date_format, dayfirst, cache_dates, iterator, chunksize, compression, thousands, decimal, lineterminator, quotechar, quoting, doublequote, escapechar, comment, encoding, encoding_errors, dialect, on_bad_lines, delim_whitespace, low_memory, memory_map, float_precision, storage_options, dtype_backend)\u001b[0m\n\u001b[1;32m   1011\u001b[0m kwds_defaults \u001b[38;5;241m=\u001b[39m _refine_defaults_read(\n\u001b[1;32m   1012\u001b[0m     dialect,\n\u001b[1;32m   1013\u001b[0m     delimiter,\n\u001b[0;32m   (...)\u001b[0m\n\u001b[1;32m   1020\u001b[0m     dtype_backend\u001b[38;5;241m=\u001b[39mdtype_backend,\n\u001b[1;32m   1021\u001b[0m )\n\u001b[1;32m   1022\u001b[0m kwds\u001b[38;5;241m.\u001b[39mupdate(kwds_defaults)\n\u001b[0;32m-> 1024\u001b[0m \u001b[38;5;28;01mreturn\u001b[39;00m \u001b[43m_read\u001b[49m\u001b[43m(\u001b[49m\u001b[43mfilepath_or_buffer\u001b[49m\u001b[43m,\u001b[49m\u001b[43m \u001b[49m\u001b[43mkwds\u001b[49m\u001b[43m)\u001b[49m\n",
                        "File \u001b[0;32m~/Desktop/Projects/chess-bot-competition/.venv/lib/python3.11/site-packages/pandas/io/parsers/readers.py:618\u001b[0m, in \u001b[0;36m_read\u001b[0;34m(filepath_or_buffer, kwds)\u001b[0m\n\u001b[1;32m    615\u001b[0m _validate_names(kwds\u001b[38;5;241m.\u001b[39mget(\u001b[38;5;124m\"\u001b[39m\u001b[38;5;124mnames\u001b[39m\u001b[38;5;124m\"\u001b[39m, \u001b[38;5;28;01mNone\u001b[39;00m))\n\u001b[1;32m    617\u001b[0m \u001b[38;5;66;03m# Create the parser.\u001b[39;00m\n\u001b[0;32m--> 618\u001b[0m parser \u001b[38;5;241m=\u001b[39m \u001b[43mTextFileReader\u001b[49m\u001b[43m(\u001b[49m\u001b[43mfilepath_or_buffer\u001b[49m\u001b[43m,\u001b[49m\u001b[43m \u001b[49m\u001b[38;5;241;43m*\u001b[39;49m\u001b[38;5;241;43m*\u001b[39;49m\u001b[43mkwds\u001b[49m\u001b[43m)\u001b[49m\n\u001b[1;32m    620\u001b[0m \u001b[38;5;28;01mif\u001b[39;00m chunksize \u001b[38;5;129;01mor\u001b[39;00m iterator:\n\u001b[1;32m    621\u001b[0m     \u001b[38;5;28;01mreturn\u001b[39;00m parser\n",
                        "File \u001b[0;32m~/Desktop/Projects/chess-bot-competition/.venv/lib/python3.11/site-packages/pandas/io/parsers/readers.py:1618\u001b[0m, in \u001b[0;36mTextFileReader.__init__\u001b[0;34m(self, f, engine, **kwds)\u001b[0m\n\u001b[1;32m   1615\u001b[0m     \u001b[38;5;28mself\u001b[39m\u001b[38;5;241m.\u001b[39moptions[\u001b[38;5;124m\"\u001b[39m\u001b[38;5;124mhas_index_names\u001b[39m\u001b[38;5;124m\"\u001b[39m] \u001b[38;5;241m=\u001b[39m kwds[\u001b[38;5;124m\"\u001b[39m\u001b[38;5;124mhas_index_names\u001b[39m\u001b[38;5;124m\"\u001b[39m]\n\u001b[1;32m   1617\u001b[0m \u001b[38;5;28mself\u001b[39m\u001b[38;5;241m.\u001b[39mhandles: IOHandles \u001b[38;5;241m|\u001b[39m \u001b[38;5;28;01mNone\u001b[39;00m \u001b[38;5;241m=\u001b[39m \u001b[38;5;28;01mNone\u001b[39;00m\n\u001b[0;32m-> 1618\u001b[0m \u001b[38;5;28mself\u001b[39m\u001b[38;5;241m.\u001b[39m_engine \u001b[38;5;241m=\u001b[39m \u001b[38;5;28;43mself\u001b[39;49m\u001b[38;5;241;43m.\u001b[39;49m\u001b[43m_make_engine\u001b[49m\u001b[43m(\u001b[49m\u001b[43mf\u001b[49m\u001b[43m,\u001b[49m\u001b[43m \u001b[49m\u001b[38;5;28;43mself\u001b[39;49m\u001b[38;5;241;43m.\u001b[39;49m\u001b[43mengine\u001b[49m\u001b[43m)\u001b[49m\n",
                        "File \u001b[0;32m~/Desktop/Projects/chess-bot-competition/.venv/lib/python3.11/site-packages/pandas/io/parsers/readers.py:1878\u001b[0m, in \u001b[0;36mTextFileReader._make_engine\u001b[0;34m(self, f, engine)\u001b[0m\n\u001b[1;32m   1876\u001b[0m     \u001b[38;5;28;01mif\u001b[39;00m \u001b[38;5;124m\"\u001b[39m\u001b[38;5;124mb\u001b[39m\u001b[38;5;124m\"\u001b[39m \u001b[38;5;129;01mnot\u001b[39;00m \u001b[38;5;129;01min\u001b[39;00m mode:\n\u001b[1;32m   1877\u001b[0m         mode \u001b[38;5;241m+\u001b[39m\u001b[38;5;241m=\u001b[39m \u001b[38;5;124m\"\u001b[39m\u001b[38;5;124mb\u001b[39m\u001b[38;5;124m\"\u001b[39m\n\u001b[0;32m-> 1878\u001b[0m \u001b[38;5;28mself\u001b[39m\u001b[38;5;241m.\u001b[39mhandles \u001b[38;5;241m=\u001b[39m \u001b[43mget_handle\u001b[49m\u001b[43m(\u001b[49m\n\u001b[1;32m   1879\u001b[0m \u001b[43m    \u001b[49m\u001b[43mf\u001b[49m\u001b[43m,\u001b[49m\n\u001b[1;32m   1880\u001b[0m \u001b[43m    \u001b[49m\u001b[43mmode\u001b[49m\u001b[43m,\u001b[49m\n\u001b[1;32m   1881\u001b[0m \u001b[43m    \u001b[49m\u001b[43mencoding\u001b[49m\u001b[38;5;241;43m=\u001b[39;49m\u001b[38;5;28;43mself\u001b[39;49m\u001b[38;5;241;43m.\u001b[39;49m\u001b[43moptions\u001b[49m\u001b[38;5;241;43m.\u001b[39;49m\u001b[43mget\u001b[49m\u001b[43m(\u001b[49m\u001b[38;5;124;43m\"\u001b[39;49m\u001b[38;5;124;43mencoding\u001b[39;49m\u001b[38;5;124;43m\"\u001b[39;49m\u001b[43m,\u001b[49m\u001b[43m \u001b[49m\u001b[38;5;28;43;01mNone\u001b[39;49;00m\u001b[43m)\u001b[49m\u001b[43m,\u001b[49m\n\u001b[1;32m   1882\u001b[0m \u001b[43m    \u001b[49m\u001b[43mcompression\u001b[49m\u001b[38;5;241;43m=\u001b[39;49m\u001b[38;5;28;43mself\u001b[39;49m\u001b[38;5;241;43m.\u001b[39;49m\u001b[43moptions\u001b[49m\u001b[38;5;241;43m.\u001b[39;49m\u001b[43mget\u001b[49m\u001b[43m(\u001b[49m\u001b[38;5;124;43m\"\u001b[39;49m\u001b[38;5;124;43mcompression\u001b[39;49m\u001b[38;5;124;43m\"\u001b[39;49m\u001b[43m,\u001b[49m\u001b[43m \u001b[49m\u001b[38;5;28;43;01mNone\u001b[39;49;00m\u001b[43m)\u001b[49m\u001b[43m,\u001b[49m\n\u001b[1;32m   1883\u001b[0m \u001b[43m    \u001b[49m\u001b[43mmemory_map\u001b[49m\u001b[38;5;241;43m=\u001b[39;49m\u001b[38;5;28;43mself\u001b[39;49m\u001b[38;5;241;43m.\u001b[39;49m\u001b[43moptions\u001b[49m\u001b[38;5;241;43m.\u001b[39;49m\u001b[43mget\u001b[49m\u001b[43m(\u001b[49m\u001b[38;5;124;43m\"\u001b[39;49m\u001b[38;5;124;43mmemory_map\u001b[39;49m\u001b[38;5;124;43m\"\u001b[39;49m\u001b[43m,\u001b[49m\u001b[43m \u001b[49m\u001b[38;5;28;43;01mFalse\u001b[39;49;00m\u001b[43m)\u001b[49m\u001b[43m,\u001b[49m\n\u001b[1;32m   1884\u001b[0m \u001b[43m    \u001b[49m\u001b[43mis_text\u001b[49m\u001b[38;5;241;43m=\u001b[39;49m\u001b[43mis_text\u001b[49m\u001b[43m,\u001b[49m\n\u001b[1;32m   1885\u001b[0m \u001b[43m    \u001b[49m\u001b[43merrors\u001b[49m\u001b[38;5;241;43m=\u001b[39;49m\u001b[38;5;28;43mself\u001b[39;49m\u001b[38;5;241;43m.\u001b[39;49m\u001b[43moptions\u001b[49m\u001b[38;5;241;43m.\u001b[39;49m\u001b[43mget\u001b[49m\u001b[43m(\u001b[49m\u001b[38;5;124;43m\"\u001b[39;49m\u001b[38;5;124;43mencoding_errors\u001b[39;49m\u001b[38;5;124;43m\"\u001b[39;49m\u001b[43m,\u001b[49m\u001b[43m \u001b[49m\u001b[38;5;124;43m\"\u001b[39;49m\u001b[38;5;124;43mstrict\u001b[39;49m\u001b[38;5;124;43m\"\u001b[39;49m\u001b[43m)\u001b[49m\u001b[43m,\u001b[49m\n\u001b[1;32m   1886\u001b[0m \u001b[43m    \u001b[49m\u001b[43mstorage_options\u001b[49m\u001b[38;5;241;43m=\u001b[39;49m\u001b[38;5;28;43mself\u001b[39;49m\u001b[38;5;241;43m.\u001b[39;49m\u001b[43moptions\u001b[49m\u001b[38;5;241;43m.\u001b[39;49m\u001b[43mget\u001b[49m\u001b[43m(\u001b[49m\u001b[38;5;124;43m\"\u001b[39;49m\u001b[38;5;124;43mstorage_options\u001b[39;49m\u001b[38;5;124;43m\"\u001b[39;49m\u001b[43m,\u001b[49m\u001b[43m \u001b[49m\u001b[38;5;28;43;01mNone\u001b[39;49;00m\u001b[43m)\u001b[49m\u001b[43m,\u001b[49m\n\u001b[1;32m   1887\u001b[0m \u001b[43m\u001b[49m\u001b[43m)\u001b[49m\n\u001b[1;32m   1888\u001b[0m \u001b[38;5;28;01massert\u001b[39;00m \u001b[38;5;28mself\u001b[39m\u001b[38;5;241m.\u001b[39mhandles \u001b[38;5;129;01mis\u001b[39;00m \u001b[38;5;129;01mnot\u001b[39;00m \u001b[38;5;28;01mNone\u001b[39;00m\n\u001b[1;32m   1889\u001b[0m f \u001b[38;5;241m=\u001b[39m \u001b[38;5;28mself\u001b[39m\u001b[38;5;241m.\u001b[39mhandles\u001b[38;5;241m.\u001b[39mhandle\n",
                        "File \u001b[0;32m~/Desktop/Projects/chess-bot-competition/.venv/lib/python3.11/site-packages/pandas/io/common.py:873\u001b[0m, in \u001b[0;36mget_handle\u001b[0;34m(path_or_buf, mode, encoding, compression, memory_map, is_text, errors, storage_options)\u001b[0m\n\u001b[1;32m    868\u001b[0m \u001b[38;5;28;01melif\u001b[39;00m \u001b[38;5;28misinstance\u001b[39m(handle, \u001b[38;5;28mstr\u001b[39m):\n\u001b[1;32m    869\u001b[0m     \u001b[38;5;66;03m# Check whether the filename is to be opened in binary mode.\u001b[39;00m\n\u001b[1;32m    870\u001b[0m     \u001b[38;5;66;03m# Binary mode does not support 'encoding' and 'newline'.\u001b[39;00m\n\u001b[1;32m    871\u001b[0m     \u001b[38;5;28;01mif\u001b[39;00m ioargs\u001b[38;5;241m.\u001b[39mencoding \u001b[38;5;129;01mand\u001b[39;00m \u001b[38;5;124m\"\u001b[39m\u001b[38;5;124mb\u001b[39m\u001b[38;5;124m\"\u001b[39m \u001b[38;5;129;01mnot\u001b[39;00m \u001b[38;5;129;01min\u001b[39;00m ioargs\u001b[38;5;241m.\u001b[39mmode:\n\u001b[1;32m    872\u001b[0m         \u001b[38;5;66;03m# Encoding\u001b[39;00m\n\u001b[0;32m--> 873\u001b[0m         handle \u001b[38;5;241m=\u001b[39m \u001b[38;5;28;43mopen\u001b[39;49m\u001b[43m(\u001b[49m\n\u001b[1;32m    874\u001b[0m \u001b[43m            \u001b[49m\u001b[43mhandle\u001b[49m\u001b[43m,\u001b[49m\n\u001b[1;32m    875\u001b[0m \u001b[43m            \u001b[49m\u001b[43mioargs\u001b[49m\u001b[38;5;241;43m.\u001b[39;49m\u001b[43mmode\u001b[49m\u001b[43m,\u001b[49m\n\u001b[1;32m    876\u001b[0m \u001b[43m            \u001b[49m\u001b[43mencoding\u001b[49m\u001b[38;5;241;43m=\u001b[39;49m\u001b[43mioargs\u001b[49m\u001b[38;5;241;43m.\u001b[39;49m\u001b[43mencoding\u001b[49m\u001b[43m,\u001b[49m\n\u001b[1;32m    877\u001b[0m \u001b[43m            \u001b[49m\u001b[43merrors\u001b[49m\u001b[38;5;241;43m=\u001b[39;49m\u001b[43merrors\u001b[49m\u001b[43m,\u001b[49m\n\u001b[1;32m    878\u001b[0m \u001b[43m            \u001b[49m\u001b[43mnewline\u001b[49m\u001b[38;5;241;43m=\u001b[39;49m\u001b[38;5;124;43m\"\u001b[39;49m\u001b[38;5;124;43m\"\u001b[39;49m\u001b[43m,\u001b[49m\n\u001b[1;32m    879\u001b[0m \u001b[43m        \u001b[49m\u001b[43m)\u001b[49m\n\u001b[1;32m    880\u001b[0m     \u001b[38;5;28;01melse\u001b[39;00m:\n\u001b[1;32m    881\u001b[0m         \u001b[38;5;66;03m# Binary mode\u001b[39;00m\n\u001b[1;32m    882\u001b[0m         handle \u001b[38;5;241m=\u001b[39m \u001b[38;5;28mopen\u001b[39m(handle, ioargs\u001b[38;5;241m.\u001b[39mmode)\n",
                        "\u001b[0;31mFileNotFoundError\u001b[0m: [Errno 2] No such file or directory: 'results/2024-02-26_results.csv'"
                    ]
                }
            ],
            "source": [
                "game_results = pd.read_csv(today_results)\n",
                "\n",
                "# make sure the bots are in bot list\n",
                "game_results = game_results[\n",
                "    game_results['white_bot'].isin([bot.name for bot in bot_classes]) &\n",
                "    game_results['black_bot'].isin([bot.name for bot in bot_classes])\n",
                "]\n",
                "\n",
                "leaderboard = pd.DataFrame(columns=['bot', 'wins', 'draws', 'losses', 'avg_time', 'score'])\n",
                "\n",
                "for bot in bot_classes:\n",
                "    bot_name = bot.name\n",
                "\n",
                "    bot_wins = sum((game_results[\"white_bot\"] == bot_name) & (game_results[\"winner\"] == \"white\")) + \\\n",
                "               sum((game_results[\"black_bot\"] == bot_name) & (game_results[\"winner\"] == \"black\"))\n",
                "    \n",
                "    bot_draws = sum((game_results[\"white_bot\"] == bot_name) & (game_results[\"winner\"].isna())) + \\\n",
                "                sum((game_results[\"black_bot\"] == bot_name) & (game_results[\"winner\"].isna()))\n",
                "    \n",
                "    bot_losses = sum((game_results[\"white_bot\"] == bot_name) & (game_results[\"winner\"] == \"black\")) + \\\n",
                "                    sum((game_results[\"black_bot\"] == bot_name) & (game_results[\"winner\"] == \"white\"))\n",
                "    \n",
                "    avg_bot_time = (game_results[(game_results[\"white_bot\"] == bot_name)][\"white_time\"].sum() + \\\n",
                "                game_results[(game_results[\"black_bot\"] == bot_name)][\"black_time\"].sum()) / \\\n",
                "                    (bot_wins + bot_draws + bot_losses)\n",
                "    \n",
                "    bot_score = bot_wins + 0.5 * bot_draws + 0 * bot_losses\n",
                "\n",
                "    leaderboard.loc[len(leaderboard)] = [bot_name, bot_wins, bot_draws, bot_losses, avg_bot_time, bot_score]\n",
                "\n",
                "leaderboard = leaderboard.sort_values(by='score', ascending=False)\n",
                "leaderboard = leaderboard.reset_index(drop=True)\n",
                "\n",
                "leaderboard"
            ]
        },
        {
            "cell_type": "code",
            "execution_count": null,
            "metadata": {},
            "outputs": [],
            "source": [
                "today_leaderboard = f\"results/{today}_leaderboard.csv\"\n",
                "\n",
                "game_results.to_csv(today_results, index=False)\n",
                "leaderboard.to_csv(today_leaderboard, index=False)"
            ]
        },
        {
            "cell_type": "code",
            "execution_count": null,
            "metadata": {},
            "outputs": [],
            "source": [
                "print(leaderboard.to_markdown())"
            ]
        },
        {
            "cell_type": "code",
            "execution_count": null,
            "metadata": {},
            "outputs": [],
            "source": []
        }
    ],
    "metadata": {
        "kernelspec": {
            "display_name": ".venv",
            "language": "python",
            "name": "python3"
        },
        "language_info": {
            "codemirror_mode": {
                "name": "ipython",
                "version": 3
            },
            "file_extension": ".py",
            "mimetype": "text/x-python",
            "name": "python",
            "nbconvert_exporter": "python",
            "pygments_lexer": "ipython3",
            "version": "3.11.7"
        }
    },
    "nbformat": 4,
    "nbformat_minor": 2
}
